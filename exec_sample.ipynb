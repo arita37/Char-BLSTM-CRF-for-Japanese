{
 "cells": [
  {
   "cell_type": "code",
   "execution_count": null,
   "metadata": {},
   "outputs": [],
   "source": [
    "from deepjapaner.experimenter import Experimenter\n",
    "import torch.optim\n",
    "from time import time"
   ]
  },
  {
   "cell_type": "code",
   "execution_count": null,
   "metadata": {},
   "outputs": [],
   "source": [
    "e = Experimenter(optimizer=torch.optim.Adam,\n",
    "                 wordemb_path='word_vectors.txt', charemb_path='char_vectors.txt',\n",
    "                 train_path='train.txt', test_path='test.txt', dev_path='dev.txt',\n",
    "                 hidden_size=300, batch_size=32, epoch_size=30,\n",
    "                 )"
   ]
  },
  {
   "cell_type": "code",
   "execution_count": null,
   "metadata": {},
   "outputs": [],
   "source": [
    "now = time()\n",
    "e.run(label='PRO', target='all', measured_val='f1_score', patience=3)\n",
    "print(str(time() - now) + \"秒\")"
   ]
  },
  {
   "cell_type": "code",
   "execution_count": null,
   "metadata": {},
   "outputs": [],
   "source": []
  }
 ],
 "metadata": {
  "kernelspec": {
   "display_name": "Python 3",
   "language": "python",
   "name": "python3"
  },
  "language_info": {
   "codemirror_mode": {
    "name": "ipython",
    "version": 3
   },
   "file_extension": ".py",
   "mimetype": "text/x-python",
   "name": "python",
   "nbconvert_exporter": "python",
   "pygments_lexer": "ipython3",
   "version": "3.7.1"
  }
 },
 "nbformat": 4,
 "nbformat_minor": 2
}
